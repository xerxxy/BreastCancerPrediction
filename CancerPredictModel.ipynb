{
 "cells": [
  {
   "cell_type": "code",
   "execution_count": null,
   "metadata": {},
   "outputs": [],
   "source": [
    "import pandas as pd\n",
    "import numpy as np \n",
    "import matplotlib.pyplot as plt\n",
    "from sklearn.model_selection import train_test_split"
   ]
  },
  {
   "cell_type": "code",
   "execution_count": null,
   "metadata": {},
   "outputs": [],
   "source": [
    "file_path = r\"C:\\Users\\antoc\\OneDrive\\Desktop\\6M\\Month1\\MLmodels\\lRregression\\breast_data.csv\"\n",
    "data = pd.read_csv(file_path)\n",
    "print(data.head())\n",
    "\n",
    "Xi= data.iloc[:,:-1]\n",
    "yi = data.iloc[:,-1]  # we ve separated the labes and features \n",
    "\n",
    "X_train, X_test, y_train, y_test = train_test_split(Xi,yi,test_size= 0.1, random_state= 20)"
   ]
  },
  {
   "cell_type": "code",
   "execution_count": null,
   "metadata": {},
   "outputs": [],
   "source": [
    "class BreastCancerPrediction:\n",
    "    \n",
    "    def __init__(self, X, y):\n",
    "        self.X = np.array(X)\n",
    "        self.y = np.array(y).reshape(-1,1)\n",
    "        self.W = np.ones((1,9))/2 # initialise the weights array as all ones \n",
    "        self.b = 0 # initialise the bias as 0 \n",
    "        self.M = len(self.X)\n",
    "        self.alpha = 0.001\n",
    "        self.losses = []\n",
    "        \n",
    "        \n",
    "        \n",
    "    def sigmoid(self,z):\n",
    "        return 1/(1+np.exp(-z))\n",
    "    \n",
    "    def cross_entropy(self, y_pred, y):\n",
    "        epsilon = 1e-15  # small epsilon value to prevent numerical instability\n",
    "        y_pred = np.clip(y_pred, epsilon, 1 - epsilon)  # Clip predicted probabilities to avoid extreme values\n",
    "        return (-y) * np.log(y_pred) - (1 - y) * np.log(1 - y_pred)\n",
    "    \n",
    "    def loss(self):\n",
    "        \n",
    "        self.y = np.where(self.y == 2, 0, self.y)\n",
    "        self.y = np.where(self.y == 4, 1, self.y)\n",
    "        \n",
    "        z = np.matmul(self.X, self.W.T) + self.b\n",
    "        \n",
    "        y_pred = self.sigmoid(z)\n",
    "        \n",
    "        #print(self.cross_entropy(y_pred, self.y).shape)\n",
    "        loss_val =  sum( self.cross_entropy(y_pred,self.y)) / self.M\n",
    "        self.losses.append(loss_val)\n",
    "        return loss_val\n",
    "    \n",
    "    def compute_gradient(self):\n",
    "        \n",
    "        z = np.matmul(self.X, self.W.T) + self.b\n",
    "        \n",
    "        y_pred = self.sigmoid(z)\n",
    "    \n",
    "        dL_dw = np.matmul(self.X.T, y_pred-self.y) / self.M\n",
    "        \n",
    "        dL_db = sum(y_pred - self.y) / self.M\n",
    "        \n",
    "        return dL_dw, dL_db\n",
    "        \n",
    "    \n",
    "    def train(self):\n",
    "        #print(self.W, self.b)\n",
    "        for i in range(1000):\n",
    "            self.loss()\n",
    "            dL_dw, dL_db = self.compute_gradient()\n",
    "            self.W = self.W - self.alpha * dL_dw.T\n",
    "            self.b = self.b - self.alpha * dL_db\n",
    "        #print(self.W, self.b)\n",
    "    \n",
    "        plt.plot(range(1, len(self.losses) + 1), self.losses)\n",
    "        plt.xlabel(\"Iterations\")\n",
    "        plt.ylabel(\"Loss\")\n",
    "        plt.title(\"Loss over Iterations\")\n",
    "        plt.show()\n",
    "\n",
    "    def predict(self, X_test):\n",
    "        z = np.matmul(X_test, self.W.T) + self.b\n",
    "        y_pred = self.sigmoid(z)\n",
    "        # predicted probabilities -> class labels (0 or 1)\n",
    "        y_pred_classes = np.where(y_pred >= 0.5, 1, 0)\n",
    "        return y_pred_classes\n",
    "        "
   ]
  },
  {
   "cell_type": "code",
   "execution_count": null,
   "metadata": {},
   "outputs": [],
   "source": [
    "logistic_model = BreastCancerPrediction(X_train, y_train)\n",
    "logistic_model.train()\n",
    "X_test = np.array(X_test)\n",
    "print(X_test.shape)\n",
    "y_pred_test = logistic_model.predict(X_test)\n",
    "\n",
    "#predicted classes/gold labels\n",
    "cnt = 0\n",
    "for pred, gold in zip(y_pred_test, y_test):\n",
    "    if(pred == gold / 2 - 1):\n",
    "        cnt+=1\n",
    "    print(\"Predicted: \", pred, \"Gold Label: \", gold)\n",
    "print(\"Accuracy: \",cnt / len(y_test))"
   ]
  },
  {
   "cell_type": "code",
   "execution_count": null,
   "metadata": {},
   "outputs": [],
   "source": []
  }
 ],
 "metadata": {
  "kernelspec": {
   "display_name": "base",
   "language": "python",
   "name": "python3"
  },
  "language_info": {
   "codemirror_mode": {
    "name": "ipython",
    "version": 3
   },
   "file_extension": ".py",
   "mimetype": "text/x-python",
   "name": "python",
   "nbconvert_exporter": "python",
   "pygments_lexer": "ipython3",
   "version": "2022.10.0"
  }
 },
 "nbformat": 4,
 "nbformat_minor": 2
}
